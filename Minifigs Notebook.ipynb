{
 "cells": [
  {
   "cell_type": "code",
   "execution_count": 0,
   "metadata": {
    "application/vnd.databricks.v1+cell": {
     "cellMetadata": {
      "byteLimit": 2048000,
      "rowLimit": 10000
     },
     "inputWidgets": {},
     "nuid": "4ae510ae-7c08-48da-992a-ca5fb17f019e",
     "showTitle": false,
     "title": ""
    }
   },
   "outputs": [],
   "source": [
    "from pyspark.sql.functions import when"
   ]
  },
  {
   "cell_type": "code",
   "execution_count": 0,
   "metadata": {
    "application/vnd.databricks.v1+cell": {
     "cellMetadata": {
      "byteLimit": 2048000,
      "rowLimit": 10000
     },
     "inputWidgets": {},
     "nuid": "764719e4-da3c-4bed-8e9d-55f985bee132",
     "showTitle": false,
     "title": ""
    }
   },
   "outputs": [],
   "source": [
    "dbutils.widgets.text(\"year\",\"\")\n",
    "dbutils.widgets.text(\"month\",\"\")\n",
    "dbutils.widgets.text(\"day\",\"\")\n",
    "dbutils.widgets.text(\"storageName\",\"\")"
   ]
  },
  {
   "cell_type": "code",
   "execution_count": 0,
   "metadata": {
    "application/vnd.databricks.v1+cell": {
     "cellMetadata": {
      "byteLimit": 2048000,
      "rowLimit": 10000
     },
     "inputWidgets": {},
     "nuid": "06009a6e-0153-4f7a-aebb-d4a00276943e",
     "showTitle": false,
     "title": ""
    }
   },
   "outputs": [],
   "source": [
    "year = dbutils.widgets.get(\"year\")\n",
    "month = dbutils.widgets.get(\"month\")\n",
    "day = dbutils.widgets.get(\"day\")\n",
    "storageName = dbutils.widgets.get(\"storageName\")"
   ]
  },
  {
   "cell_type": "code",
   "execution_count": 0,
   "metadata": {
    "application/vnd.databricks.v1+cell": {
     "cellMetadata": {
      "byteLimit": 2048000,
      "rowLimit": 10000
     },
     "inputWidgets": {},
     "nuid": "707d6ed4-784b-4bef-885b-b6db4295c449",
     "showTitle": false,
     "title": ""
    }
   },
   "outputs": [
    {
     "output_type": "display_data",
     "data": {
      "text/html": [
       "<style scoped>\n",
       "  .table-result-container {\n",
       "    max-height: 300px;\n",
       "    overflow: auto;\n",
       "  }\n",
       "  table, th, td {\n",
       "    border: 1px solid black;\n",
       "    border-collapse: collapse;\n",
       "  }\n",
       "  th, td {\n",
       "    padding: 5px;\n",
       "  }\n",
       "  th {\n",
       "    text-align: left;\n",
       "  }\n",
       "</style><div class='table-result-container'><table class='table-result'><thead style='background-color: white'><tr><th>path</th><th>name</th><th>size</th><th>modificationTime</th></tr></thead><tbody><tr><td>abfss://raw@mateuszlegoprod.dfs.core.windows.net/downloadList/</td><td>downloadList/</td><td>0</td><td>1719593647000</td></tr><tr><td>abfss://raw@mateuszlegoprod.dfs.core.windows.net/files/</td><td>files/</td><td>0</td><td>1719593776000</td></tr><tr><td>abfss://raw@mateuszlegoprod.dfs.core.windows.net/user_files/</td><td>user_files/</td><td>0</td><td>1719594987000</td></tr><tr><td>abfss://raw@mateuszlegoprod.dfs.core.windows.net/usersList/</td><td>usersList/</td><td>0</td><td>1719593720000</td></tr></tbody></table></div>"
      ]
     },
     "metadata": {
      "application/vnd.databricks.v1+output": {
       "addedWidgets": {},
       "aggData": [],
       "aggError": "",
       "aggOverflow": false,
       "aggSchema": [],
       "aggSeriesLimitReached": false,
       "aggType": "",
       "arguments": {},
       "columnCustomDisplayInfos": {},
       "data": [
        [
         "abfss://raw@mateuszlegoprod.dfs.core.windows.net/downloadList/",
         "downloadList/",
         0,
         1719593647000
        ],
        [
         "abfss://raw@mateuszlegoprod.dfs.core.windows.net/files/",
         "files/",
         0,
         1719593776000
        ],
        [
         "abfss://raw@mateuszlegoprod.dfs.core.windows.net/user_files/",
         "user_files/",
         0,
         1719594987000
        ],
        [
         "abfss://raw@mateuszlegoprod.dfs.core.windows.net/usersList/",
         "usersList/",
         0,
         1719593720000
        ]
       ],
       "datasetInfos": [],
       "dbfsResultPath": null,
       "isJsonSchema": true,
       "metadata": {},
       "overflow": false,
       "plotOptions": {
        "customPlotOptions": {},
        "displayType": "table",
        "pivotAggregation": null,
        "pivotColumns": null,
        "xColumns": null,
        "yColumns": null
       },
       "removedWidgets": [],
       "schema": [
        {
         "metadata": "{}",
         "name": "path",
         "type": "\"string\""
        },
        {
         "metadata": "{}",
         "name": "name",
         "type": "\"string\""
        },
        {
         "metadata": "{}",
         "name": "size",
         "type": "\"long\""
        },
        {
         "metadata": "{}",
         "name": "modificationTime",
         "type": "\"long\""
        }
       ],
       "type": "table"
      }
     },
     "output_type": "display_data"
    }
   ],
   "source": [
    "display(dbutils.fs.ls(f\"abfss://raw@{storageName}.dfs.core.windows.net\"))"
   ]
  },
  {
   "cell_type": "code",
   "execution_count": 0,
   "metadata": {
    "application/vnd.databricks.v1+cell": {
     "cellMetadata": {
      "byteLimit": 2048000,
      "rowLimit": 10000
     },
     "inputWidgets": {},
     "nuid": "64c6927d-d0c2-4821-9a1a-35b2402e3154",
     "showTitle": false,
     "title": ""
    }
   },
   "outputs": [],
   "source": [
    "df = spark.read.option(\"inferSchema\",\"true\").option(\"header\",\"true\").csv(f\"abfss://raw@{storageName}.dfs.core.windows.net/files/minifigs/Year={year}/Month={month}/Day={day}/*.csv.gz\")"
   ]
  },
  {
   "cell_type": "code",
   "execution_count": 0,
   "metadata": {
    "application/vnd.databricks.v1+cell": {
     "cellMetadata": {
      "byteLimit": 2048000,
      "rowLimit": 10000
     },
     "inputWidgets": {},
     "nuid": "66841657-786b-45ed-9f56-05d6bad3d096",
     "showTitle": false,
     "title": ""
    }
   },
   "outputs": [
    {
     "output_type": "stream",
     "name": "stdout",
     "output_type": "stream",
     "text": [
      "+----------+--------------------+---------+--------------------+\n|   fig_num|                name|num_parts|             img_url|\n+----------+--------------------+---------+--------------------+\n|fig-000001|  Toy Store Employee|        4|https://cdn.rebri...|\n|fig-000002|        Customer Kid|        4|https://cdn.rebri...|\n|fig-000003|Assassin Droid, W...|        8|https://cdn.rebri...|\n|fig-000004|Man, White Torso,...|        4|https://cdn.rebri...|\n|fig-000005|Captain America w...|        3|https://cdn.rebri...|\n|fig-000006|        Lloyd Avatar|        5|https://cdn.rebri...|\n|fig-000007|Lloyd / Digi Lloy...|        5|https://cdn.rebri...|\n|fig-000008|        Wonder Woman|        4|https://cdn.rebri...|\n|fig-000009|           The Flash|        4|https://cdn.rebri...|\n|fig-000010|Batman, Dark Blui...|        5|https://cdn.rebri...|\n|fig-000011|        Captain Cold|        4|https://cdn.rebri...|\n|fig-000012|        Truck Driver|        4|https://cdn.rebri...|\n|fig-000013|       Gorilla Grodd|        7|https://cdn.rebri...|\n|fig-000014|Batgirl, Dark Pur...|        5|https://cdn.rebri...|\n|fig-000015|          Sir Fangar|        7|https://cdn.rebri...|\n|fig-000016|           Stealthor|        6|https://cdn.rebri...|\n|fig-000017|              Gorzan|        6|https://cdn.rebri...|\n|fig-000018|               Alien|        3|https://cdn.rebri...|\n|fig-000019|     UFO Alien, Blue|        5|https://cdn.rebri...|\n|fig-000020|Classic Spaceman,...|        5|https://cdn.rebri...|\n+----------+--------------------+---------+--------------------+\nonly showing top 20 rows\n\n"
     ]
    }
   ],
   "source": [
    "df.show()"
   ]
  },
  {
   "cell_type": "code",
   "execution_count": 0,
   "metadata": {
    "application/vnd.databricks.v1+cell": {
     "cellMetadata": {
      "byteLimit": 2048000,
      "rowLimit": 10000
     },
     "inputWidgets": {},
     "nuid": "cd0a05d1-0c58-4d23-b091-0999d1701e17",
     "showTitle": false,
     "title": ""
    }
   },
   "outputs": [],
   "source": [
    "df = df.withColumnRenamed(\"fig_num\",\"figID\").withColumnRenamed(\"name\", \"figName\").withColumnRenamed(\"num_parts\",\"partsCount\").withColumnRenamed(\"img_url\",\"imgURL\")"
   ]
  },
  {
   "cell_type": "code",
   "execution_count": 0,
   "metadata": {
    "application/vnd.databricks.v1+cell": {
     "cellMetadata": {
      "byteLimit": 2048000,
      "rowLimit": 10000
     },
     "inputWidgets": {},
     "nuid": "47bb8841-93d3-4649-adc6-42f23a7e9786",
     "showTitle": false,
     "title": ""
    }
   },
   "outputs": [],
   "source": [
    "df = df.withColumn(\"Complexity\", when(df.partsCount <=4, \"Low\").when(df.partsCount <=7, \"Medium\").otherwise(\"High\"))"
   ]
  },
  {
   "cell_type": "code",
   "execution_count": 0,
   "metadata": {
    "application/vnd.databricks.v1+cell": {
     "cellMetadata": {
      "byteLimit": 2048000,
      "rowLimit": 10000
     },
     "inputWidgets": {},
     "nuid": "072f39ea-d834-4c1e-b7ec-9c2a04ee7578",
     "showTitle": false,
     "title": ""
    }
   },
   "outputs": [
    {
     "output_type": "stream",
     "name": "stdout",
     "output_type": "stream",
     "text": [
      "+----------+--------------------+----------+--------------------+----------+\n|     figID|             figName|partsCount|              imgURL|Complexity|\n+----------+--------------------+----------+--------------------+----------+\n|fig-000001|  Toy Store Employee|         4|https://cdn.rebri...|       Low|\n|fig-000002|        Customer Kid|         4|https://cdn.rebri...|       Low|\n|fig-000003|Assassin Droid, W...|         8|https://cdn.rebri...|      High|\n|fig-000004|Man, White Torso,...|         4|https://cdn.rebri...|       Low|\n|fig-000005|Captain America w...|         3|https://cdn.rebri...|       Low|\n|fig-000006|        Lloyd Avatar|         5|https://cdn.rebri...|    Medium|\n|fig-000007|Lloyd / Digi Lloy...|         5|https://cdn.rebri...|    Medium|\n|fig-000008|        Wonder Woman|         4|https://cdn.rebri...|       Low|\n|fig-000009|           The Flash|         4|https://cdn.rebri...|       Low|\n|fig-000010|Batman, Dark Blui...|         5|https://cdn.rebri...|    Medium|\n|fig-000011|        Captain Cold|         4|https://cdn.rebri...|       Low|\n|fig-000012|        Truck Driver|         4|https://cdn.rebri...|       Low|\n|fig-000013|       Gorilla Grodd|         7|https://cdn.rebri...|    Medium|\n|fig-000014|Batgirl, Dark Pur...|         5|https://cdn.rebri...|    Medium|\n|fig-000015|          Sir Fangar|         7|https://cdn.rebri...|    Medium|\n|fig-000016|           Stealthor|         6|https://cdn.rebri...|    Medium|\n|fig-000017|              Gorzan|         6|https://cdn.rebri...|    Medium|\n|fig-000018|               Alien|         3|https://cdn.rebri...|       Low|\n|fig-000019|     UFO Alien, Blue|         5|https://cdn.rebri...|    Medium|\n|fig-000020|Classic Spaceman,...|         5|https://cdn.rebri...|    Medium|\n+----------+--------------------+----------+--------------------+----------+\nonly showing top 20 rows\n\n"
     ]
    }
   ],
   "source": [
    "df.show()"
   ]
  },
  {
   "cell_type": "code",
   "execution_count": 0,
   "metadata": {
    "application/vnd.databricks.v1+cell": {
     "cellMetadata": {
      "byteLimit": 2048000,
      "rowLimit": 10000
     },
     "inputWidgets": {},
     "nuid": "b28fc847-ec72-42cc-91b9-535f4800e954",
     "showTitle": false,
     "title": ""
    }
   },
   "outputs": [],
   "source": [
    "df.write.format(\"delta\").mode(\"overwrite\").save(f\"abfss://curated@{storageName}.dfs.core.windows.net/files/minifigs/\")"
   ]
  }
 ],
 "metadata": {
  "application/vnd.databricks.v1+notebook": {
   "dashboards": [],
   "environmentMetadata": null,
   "language": "python",
   "notebookMetadata": {
    "pythonIndentUnit": 4
   },
   "notebookName": "Minifigs Notebook",
   "widgets": {
    "day": {
     "currentValue": "28",
     "nuid": "6a12445e-c1fe-450e-8770-440eb1454e1f",
     "typedWidgetInfo": null,
     "widgetInfo": {
      "widgetType": "text",
      "defaultValue": "",
      "label": null,
      "name": "day",
      "options": {
       "widgetType": "text",
       "autoCreated": null,
       "validationRegex": null
      }
     }
    },
    "month": {
     "currentValue": "06",
     "nuid": "2a17456e-b68d-4668-b6ee-f7b9193f666d",
     "typedWidgetInfo": null,
     "widgetInfo": {
      "widgetType": "text",
      "defaultValue": "",
      "label": null,
      "name": "month",
      "options": {
       "widgetType": "text",
       "autoCreated": null,
       "validationRegex": null
      }
     }
    },
    "storageName": {
     "currentValue": "mateuszlegoprod",
     "nuid": "1c3e9eaa-b88c-4158-9c00-b25691866bfe",
     "typedWidgetInfo": null,
     "widgetInfo": {
      "widgetType": "text",
      "defaultValue": "",
      "label": null,
      "name": "storageName",
      "options": {
       "widgetType": "text",
       "autoCreated": null,
       "validationRegex": null
      }
     }
    },
    "year": {
     "currentValue": "2024",
     "nuid": "a93aff8d-15cf-4294-b3d5-d46d1f0e01d3",
     "typedWidgetInfo": null,
     "widgetInfo": {
      "widgetType": "text",
      "defaultValue": "",
      "label": null,
      "name": "year",
      "options": {
       "widgetType": "text",
       "autoCreated": null,
       "validationRegex": null
      }
     }
    }
   }
  }
 },
 "nbformat": 4,
 "nbformat_minor": 0
}

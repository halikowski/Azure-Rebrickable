{
 "cells": [
  {
   "cell_type": "code",
   "execution_count": 0,
   "metadata": {
    "application/vnd.databricks.v1+cell": {
     "cellMetadata": {
      "byteLimit": 2048000,
      "rowLimit": 10000
     },
     "inputWidgets": {},
     "nuid": "894c80ed-0a7e-43a0-bcae-bc99edca40a7",
     "showTitle": false,
     "title": ""
    }
   },
   "outputs": [],
   "source": [
    "from pyspark.sql.functions import col, when, broadcast\n"
   ]
  },
  {
   "cell_type": "code",
   "execution_count": 0,
   "metadata": {
    "application/vnd.databricks.v1+cell": {
     "cellMetadata": {
      "byteLimit": 2048000,
      "rowLimit": 10000
     },
     "collapsed": true,
     "inputWidgets": {},
     "nuid": "720e782a-e01b-41fc-aa49-899591bab818",
     "showTitle": false,
     "title": ""
    }
   },
   "outputs": [],
   "source": [
    "dbutils.widgets.text(\"year\",\"\")\n",
    "dbutils.widgets.text(\"month\",\"\")\n",
    "dbutils.widgets.text(\"day\",\"\")\n",
    "dbutils.widgets.text(\"storageName\",\"\")"
   ]
  },
  {
   "cell_type": "code",
   "execution_count": 0,
   "metadata": {
    "application/vnd.databricks.v1+cell": {
     "cellMetadata": {
      "byteLimit": 2048000,
      "rowLimit": 10000
     },
     "inputWidgets": {},
     "nuid": "0127523f-7e1f-425e-918f-75815846e874",
     "showTitle": false,
     "title": ""
    }
   },
   "outputs": [],
   "source": [
    "year = dbutils.widgets.get(\"year\")\n",
    "month = dbutils.widgets.get(\"month\")\n",
    "day = dbutils.widgets.get(\"day\")\n",
    "storageName = dbutils.widgets.get(\"storageName\")"
   ]
  },
  {
   "cell_type": "code",
   "execution_count": 0,
   "metadata": {
    "application/vnd.databricks.v1+cell": {
     "cellMetadata": {
      "byteLimit": 2048000,
      "rowLimit": 10000
     },
     "inputWidgets": {},
     "nuid": "cf02569a-ba86-44c8-ad1a-ec51b0ae0454",
     "showTitle": false,
     "title": ""
    }
   },
   "outputs": [],
   "source": [
    "themes_df = spark.read.option(\"inferSchema\",\"true\").option(\"header\",\"true\").csv(f\"abfss://raw@{storageName}.dfs.core.windows.net/files/themes/Year={year}/Month={month}/Day={day}/*.csv.gz\")"
   ]
  },
  {
   "cell_type": "code",
   "execution_count": 0,
   "metadata": {
    "application/vnd.databricks.v1+cell": {
     "cellMetadata": {
      "byteLimit": 2048000,
      "rowLimit": 10000
     },
     "inputWidgets": {},
     "nuid": "cc140936-2907-44df-a747-994d4ced8acb",
     "showTitle": false,
     "title": ""
    }
   },
   "outputs": [
    {
     "output_type": "stream",
     "name": "stdout",
     "output_type": "stream",
     "text": [
      "+---+--------------------+---------+\n| id|                name|parent_id|\n+---+--------------------+---------+\n|  1|             Technic|     NULL|\n|  3|         Competition|        1|\n|  4|      Expert Builder|        1|\n| 16|          RoboRiders|        1|\n| 17|      Speed Slammers|        1|\n| 18|           Star Wars|        1|\n| 19|        Supplemental|        1|\n| 20|     Throwbot Slizer|        1|\n| 21|Universal Buildin...|        1|\n| 22|             Creator|     NULL|\n| 34|       Make & Create|     NULL|\n| 35|       Bricks & More|       34|\n| 50|                Town|     NULL|\n| 51|              Arctic|       50|\n| 52|                City|     NULL|\n| 53|             Airport|       52|\n| 54|               Cargo|       52|\n| 55|         Coast Guard|       52|\n| 56|        Construction|       52|\n| 57|                Farm|       52|\n+---+--------------------+---------+\nonly showing top 20 rows\n\n"
     ]
    }
   ],
   "source": [
    "themes_df.show()"
   ]
  },
  {
   "cell_type": "code",
   "execution_count": 0,
   "metadata": {
    "application/vnd.databricks.v1+cell": {
     "cellMetadata": {
      "byteLimit": 2048000,
      "rowLimit": 10000
     },
     "inputWidgets": {},
     "nuid": "40555016-03de-4a04-ac1f-0adb31e82c4a",
     "showTitle": false,
     "title": ""
    }
   },
   "outputs": [],
   "source": [
    "# Adding parent theme name to the data frame\n",
    "themes_with_parents_df = themes_df.alias('themes1').join(themes_df.alias('themes2'), col('themes1.parent_id') == col('themes2.id'), how='left').select(col('themes1.id'),col('themes1.name'),col('themes1.parent_id'), col('themes2.name').alias('parentTheme'))"
   ]
  },
  {
   "cell_type": "code",
   "execution_count": 0,
   "metadata": {
    "application/vnd.databricks.v1+cell": {
     "cellMetadata": {
      "byteLimit": 2048000,
      "rowLimit": 10000
     },
     "inputWidgets": {},
     "nuid": "412a8cca-360b-41d7-bfdf-b09a4a351af8",
     "showTitle": false,
     "title": ""
    }
   },
   "outputs": [
    {
     "output_type": "stream",
     "name": "stdout",
     "output_type": "stream",
     "text": [
      "+---+--------------------+---------+-------------+\n| id|                name|parent_id|  parentTheme|\n+---+--------------------+---------+-------------+\n|  1|             Technic|     NULL|         NULL|\n|  3|         Competition|        1|      Technic|\n|  4|      Expert Builder|        1|      Technic|\n| 16|          RoboRiders|        1|      Technic|\n| 17|      Speed Slammers|        1|      Technic|\n| 18|           Star Wars|        1|      Technic|\n| 19|        Supplemental|        1|      Technic|\n| 20|     Throwbot Slizer|        1|      Technic|\n| 21|Universal Buildin...|        1|      Technic|\n| 22|             Creator|     NULL|         NULL|\n| 34|       Make & Create|     NULL|         NULL|\n| 35|       Bricks & More|       34|Make & Create|\n| 50|                Town|     NULL|         NULL|\n| 51|              Arctic|       50|         Town|\n| 52|                City|     NULL|         NULL|\n| 53|             Airport|       52|         City|\n| 54|               Cargo|       52|         City|\n| 55|         Coast Guard|       52|         City|\n| 56|        Construction|       52|         City|\n| 57|                Farm|       52|         City|\n+---+--------------------+---------+-------------+\nonly showing top 20 rows\n\n"
     ]
    }
   ],
   "source": [
    "themes_with_parents_df.show()"
   ]
  },
  {
   "cell_type": "code",
   "execution_count": 0,
   "metadata": {
    "application/vnd.databricks.v1+cell": {
     "cellMetadata": {
      "byteLimit": 2048000,
      "rowLimit": 10000
     },
     "inputWidgets": {},
     "nuid": "83fae836-39e0-4981-8a2b-dba85c29ed8b",
     "showTitle": false,
     "title": ""
    }
   },
   "outputs": [],
   "source": [
    "# Renaming columns\n",
    "themes_with_parents_df = themes_with_parents_df.withColumnRenamed(\"id\", \"themeID\").withColumnRenamed(\"name\", \"themeName\").withColumnRenamed(\"parent_id\",\"parentID\")"
   ]
  },
  {
   "cell_type": "code",
   "execution_count": 0,
   "metadata": {
    "application/vnd.databricks.v1+cell": {
     "cellMetadata": {
      "byteLimit": 2048000,
      "rowLimit": 10000
     },
     "inputWidgets": {},
     "nuid": "9208b2c5-7b1c-46ac-a0e5-78aa52dc97d6",
     "showTitle": false,
     "title": ""
    }
   },
   "outputs": [],
   "source": [
    "# Creating another data frame, with sets data\n",
    "sets_df = spark.read.option(\"inferSchema\",\"true\").option(\"header\",\"true\").csv(f\"abfss://raw@{storageName}.dfs.core.windows.net/files/sets/Year={year}/Month={month}/Day={day}/*.csv.gz\")"
   ]
  },
  {
   "cell_type": "code",
   "execution_count": 0,
   "metadata": {
    "application/vnd.databricks.v1+cell": {
     "cellMetadata": {
      "byteLimit": 2048000,
      "rowLimit": 10000
     },
     "inputWidgets": {},
     "nuid": "fc6bd4ab-4b66-415b-8020-2fa1151feac7",
     "showTitle": false,
     "title": ""
    }
   },
   "outputs": [
    {
     "output_type": "stream",
     "name": "stdout",
     "output_type": "stream",
     "text": [
      "+------------+--------------------+----+--------+---------+--------------------+\n|     set_num|                name|year|theme_id|num_parts|             img_url|\n+------------+--------------------+----+--------+---------+--------------------+\n|0003977811-1|Ninjago: Book of ...|2022|     761|        1|https://cdn.rebri...|\n|       001-1|               Gears|1965|     756|       43|https://cdn.rebri...|\n|      0011-2|   Town Mini-Figures|1979|      67|       12|https://cdn.rebri...|\n|      0011-3|Castle 2 for 1 Bo...|1987|     199|        0|https://cdn.rebri...|\n|      0012-1|  Space Mini-Figures|1979|     143|       12|https://cdn.rebri...|\n|      0013-1|  Space Mini-Figures|1979|     143|       12|https://cdn.rebri...|\n|      0014-1|  Space Mini-Figures|1979|     143|        2|https://cdn.rebri...|\n|      0015-1|  Space Mini-Figures|1979|     143|       18|https://cdn.rebri...|\n|      0016-1| Castle Mini Figures|1979|     189|       15|https://cdn.rebri...|\n|       002-1|4.5V Samsonite Ge...|1965|     756|        3|https://cdn.rebri...|\n| 002253963-1|Legend of Chima: ...|2013|     761|        4|https://cdn.rebri...|\n|       003-1| Master Mechanic Set|1966|     756|      403|https://cdn.rebri...|\n|       004-1|  Master Builder Set|1966|     756|      817|https://cdn.rebri...|\n|       005-1|Basic Building Se...|1965|     365|       35|https://cdn.rebri...|\n|       005-2|       Discovery Set|1967|     756|        0|https://cdn.rebri...|\n|        00-6|       Special Offer|1985|      67|        0|https://cdn.rebri...|\n|       010-1|Basic Building Se...|1965|     365|       57|https://cdn.rebri...|\n|       010-2|      Pre-School Set|1973|     505|       18|https://cdn.rebri...|\n|       010-3|  Basic Building Set|1968|     365|       77|https://cdn.rebri...|\n|    010423-1|  The Majestic Horse|2023|     721|      492|https://cdn.rebri...|\n+------------+--------------------+----+--------+---------+--------------------+\nonly showing top 20 rows\n\n"
     ]
    }
   ],
   "source": [
    "sets_df.show()"
   ]
  },
  {
   "cell_type": "code",
   "execution_count": 0,
   "metadata": {
    "application/vnd.databricks.v1+cell": {
     "cellMetadata": {
      "byteLimit": 2048000,
      "rowLimit": 10000
     },
     "inputWidgets": {},
     "nuid": "9d0d5b46-eee7-4d30-b89c-9e02de421ee5",
     "showTitle": false,
     "title": ""
    }
   },
   "outputs": [],
   "source": [
    "# Renaming columns in the sets DF\n",
    "sets_df = sets_df.withColumnRenamed(\"set_num\",\"setID\").withColumnRenamed(\"name\",\"setName\").withColumnRenamed(\"year\",\"releaseYear\").withColumnRenamed(\"theme_id\",\"themeID\").withColumnRenamed(\"num_parts\",\"partsCount\").withColumnRenamed(\"img_url\",\"imgURL\")"
   ]
  },
  {
   "cell_type": "code",
   "execution_count": 0,
   "metadata": {
    "application/vnd.databricks.v1+cell": {
     "cellMetadata": {
      "byteLimit": 2048000,
      "rowLimit": 10000
     },
     "inputWidgets": {},
     "nuid": "5e2e2b6b-5328-4f56-b413-a9a557dd928e",
     "showTitle": false,
     "title": ""
    }
   },
   "outputs": [],
   "source": [
    "# Merging both data frames\n",
    "merged_df = sets_df.join(broadcast(themes_with_parents_df), sets_df.themeID == themes_with_parents_df.themeID, how='left').drop('themeID', 'parentID')"
   ]
  },
  {
   "cell_type": "code",
   "execution_count": 0,
   "metadata": {
    "application/vnd.databricks.v1+cell": {
     "cellMetadata": {
      "byteLimit": 2048000,
      "rowLimit": 10000
     },
     "inputWidgets": {},
     "nuid": "e2d3a0a5-76fb-4172-8121-fdb1ef09ea6b",
     "showTitle": false,
     "title": ""
    }
   },
   "outputs": [
    {
     "output_type": "stream",
     "name": "stdout",
     "output_type": "stream",
     "text": [
      "+------------+--------------------+-----------+----------+--------------------+--------------------+-----------+\n|       setID|             setName|releaseYear|partsCount|              imgURL|           themeName|parentTheme|\n+------------+--------------------+-----------+----------+--------------------+--------------------+-----------+\n|0003977811-1|Ninjago: Book of ...|       2022|         1|https://cdn.rebri...|Activity Books wi...|      Books|\n|       001-1|               Gears|       1965|        43|https://cdn.rebri...|           Samsonite|     System|\n|      0011-2|   Town Mini-Figures|       1979|        12|https://cdn.rebri...|        Classic Town|       Town|\n|      0011-3|Castle 2 for 1 Bo...|       1987|         0|https://cdn.rebri...|        Lion Knights|     Castle|\n|      0012-1|  Space Mini-Figures|       1979|        12|https://cdn.rebri...|        Supplemental|      Space|\n|      0013-1|  Space Mini-Figures|       1979|        12|https://cdn.rebri...|        Supplemental|      Space|\n|      0014-1|  Space Mini-Figures|       1979|         2|https://cdn.rebri...|        Supplemental|      Space|\n|      0015-1|  Space Mini-Figures|       1979|        18|https://cdn.rebri...|        Supplemental|      Space|\n|      0016-1| Castle Mini Figures|       1979|        15|https://cdn.rebri...|      Classic Castle|     Castle|\n|       002-1|4.5V Samsonite Ge...|       1965|         3|https://cdn.rebri...|           Samsonite|     System|\n| 002253963-1|Legend of Chima: ...|       2013|         4|https://cdn.rebri...|Activity Books wi...|      Books|\n|       003-1| Master Mechanic Set|       1966|       403|https://cdn.rebri...|           Samsonite|     System|\n|       004-1|  Master Builder Set|       1966|       817|https://cdn.rebri...|           Samsonite|     System|\n|       005-1|Basic Building Se...|       1965|        35|https://cdn.rebri...|              System|       NULL|\n|       005-2|       Discovery Set|       1967|         0|https://cdn.rebri...|           Samsonite|     System|\n|        00-6|       Special Offer|       1985|         0|https://cdn.rebri...|        Classic Town|       Town|\n|       010-1|Basic Building Se...|       1965|        57|https://cdn.rebri...|              System|       NULL|\n|       010-2|      Pre-School Set|       1973|        18|https://cdn.rebri...|           Basic Set|      Duplo|\n|       010-3|  Basic Building Set|       1968|        77|https://cdn.rebri...|              System|       NULL|\n|    010423-1|  The Majestic Horse|       2023|       492|https://cdn.rebri...|               Icons|       NULL|\n+------------+--------------------+-----------+----------+--------------------+--------------------+-----------+\nonly showing top 20 rows\n\n"
     ]
    }
   ],
   "source": [
    "merged_df.show()"
   ]
  },
  {
   "cell_type": "code",
   "execution_count": 0,
   "metadata": {
    "application/vnd.databricks.v1+cell": {
     "cellMetadata": {
      "byteLimit": 2048000,
      "rowLimit": 10000
     },
     "inputWidgets": {},
     "nuid": "083b862e-a3cf-474c-a7f5-33891f6fc570",
     "showTitle": false,
     "title": ""
    }
   },
   "outputs": [],
   "source": [
    "# Adding 'Complexity' column with values based on parts count\n",
    "merged_df = merged_df.withColumn('Complexity', when(merged_df.partsCount <= 10, 'Very Low').when(merged_df.partsCount <= 25, 'Low').when(merged_df.partsCount <= 50, 'Normal').when(merged_df.partsCount <= 100, 'Medium').when(merged_df.partsCount <= 300, 'High').otherwise('Very High'))"
   ]
  },
  {
   "cell_type": "code",
   "execution_count": 0,
   "metadata": {
    "application/vnd.databricks.v1+cell": {
     "cellMetadata": {
      "byteLimit": 2048000,
      "rowLimit": 10000
     },
     "inputWidgets": {},
     "nuid": "5faf6479-694e-4a05-9a22-3f508fbdd879",
     "showTitle": false,
     "title": ""
    }
   },
   "outputs": [
    {
     "output_type": "stream",
     "name": "stdout",
     "output_type": "stream",
     "text": [
      "+------------+--------------------+-----------+----------+--------------------+--------------------+-----------+----------+\n|       setID|             setName|releaseYear|partsCount|              imgURL|           themeName|parentTheme|Complexity|\n+------------+--------------------+-----------+----------+--------------------+--------------------+-----------+----------+\n|0003977811-1|Ninjago: Book of ...|       2022|         1|https://cdn.rebri...|Activity Books wi...|      Books|  Very Low|\n|       001-1|               Gears|       1965|        43|https://cdn.rebri...|           Samsonite|     System|    Normal|\n|      0011-2|   Town Mini-Figures|       1979|        12|https://cdn.rebri...|        Classic Town|       Town|       Low|\n|      0011-3|Castle 2 for 1 Bo...|       1987|         0|https://cdn.rebri...|        Lion Knights|     Castle|  Very Low|\n|      0012-1|  Space Mini-Figures|       1979|        12|https://cdn.rebri...|        Supplemental|      Space|       Low|\n|      0013-1|  Space Mini-Figures|       1979|        12|https://cdn.rebri...|        Supplemental|      Space|       Low|\n|      0014-1|  Space Mini-Figures|       1979|         2|https://cdn.rebri...|        Supplemental|      Space|  Very Low|\n|      0015-1|  Space Mini-Figures|       1979|        18|https://cdn.rebri...|        Supplemental|      Space|       Low|\n|      0016-1| Castle Mini Figures|       1979|        15|https://cdn.rebri...|      Classic Castle|     Castle|       Low|\n|       002-1|4.5V Samsonite Ge...|       1965|         3|https://cdn.rebri...|           Samsonite|     System|  Very Low|\n| 002253963-1|Legend of Chima: ...|       2013|         4|https://cdn.rebri...|Activity Books wi...|      Books|  Very Low|\n|       003-1| Master Mechanic Set|       1966|       403|https://cdn.rebri...|           Samsonite|     System| Very High|\n|       004-1|  Master Builder Set|       1966|       817|https://cdn.rebri...|           Samsonite|     System| Very High|\n|       005-1|Basic Building Se...|       1965|        35|https://cdn.rebri...|              System|       NULL|    Normal|\n|       005-2|       Discovery Set|       1967|         0|https://cdn.rebri...|           Samsonite|     System|  Very Low|\n|        00-6|       Special Offer|       1985|         0|https://cdn.rebri...|        Classic Town|       Town|  Very Low|\n|       010-1|Basic Building Se...|       1965|        57|https://cdn.rebri...|              System|       NULL|    Medium|\n|       010-2|      Pre-School Set|       1973|        18|https://cdn.rebri...|           Basic Set|      Duplo|       Low|\n|       010-3|  Basic Building Set|       1968|        77|https://cdn.rebri...|              System|       NULL|    Medium|\n|    010423-1|  The Majestic Horse|       2023|       492|https://cdn.rebri...|               Icons|       NULL| Very High|\n+------------+--------------------+-----------+----------+--------------------+--------------------+-----------+----------+\nonly showing top 20 rows\n\n"
     ]
    }
   ],
   "source": [
    "merged_df.show()"
   ]
  },
  {
   "cell_type": "code",
   "execution_count": 0,
   "metadata": {
    "application/vnd.databricks.v1+cell": {
     "cellMetadata": {
      "byteLimit": 2048000,
      "rowLimit": 10000
     },
     "inputWidgets": {},
     "nuid": "01320d9b-fa8a-4814-b758-93223f44936e",
     "showTitle": false,
     "title": ""
    }
   },
   "outputs": [],
   "source": [
    "merged_df = merged_df.dropDuplicates()"
   ]
  },
  {
   "cell_type": "code",
   "execution_count": 0,
   "metadata": {
    "application/vnd.databricks.v1+cell": {
     "cellMetadata": {
      "byteLimit": 2048000,
      "rowLimit": 10000
     },
     "inputWidgets": {},
     "nuid": "77a669fb-3735-4a66-8ab7-624a46e03510",
     "showTitle": false,
     "title": ""
    }
   },
   "outputs": [],
   "source": [
    "merged_df.write.format(\"delta\").mode(\"overwrite\").save(f\"abfss://curated@{storageName}.dfs.core.windows.net/files/sets/\")"
   ]
  }
 ],
 "metadata": {
  "application/vnd.databricks.v1+notebook": {
   "dashboards": [],
   "environmentMetadata": null,
   "language": "python",
   "notebookMetadata": {
    "pythonIndentUnit": 4
   },
   "notebookName": "Sets Notebook",
   "widgets": {
    "day": {
     "currentValue": "28",
     "nuid": "7a0b5a64-e617-4160-8f06-e8c9bbaa49e6",
     "typedWidgetInfo": null,
     "widgetInfo": {
      "widgetType": "text",
      "defaultValue": "",
      "label": null,
      "name": "day",
      "options": {
       "widgetType": "text",
       "autoCreated": null,
       "validationRegex": null
      }
     }
    },
    "month": {
     "currentValue": "06",
     "nuid": "03dcc5a6-8519-4087-bcf4-1402eaba7591",
     "typedWidgetInfo": null,
     "widgetInfo": {
      "widgetType": "text",
      "defaultValue": "",
      "label": null,
      "name": "month",
      "options": {
       "widgetType": "text",
       "autoCreated": null,
       "validationRegex": null
      }
     }
    },
    "storageName": {
     "currentValue": "mateuszlegoprod",
     "nuid": "0f7b4fed-4440-4a6d-b258-2bf357889f79",
     "typedWidgetInfo": null,
     "widgetInfo": {
      "widgetType": "text",
      "defaultValue": "",
      "label": null,
      "name": "storageName",
      "options": {
       "widgetType": "text",
       "autoCreated": null,
       "validationRegex": null
      }
     }
    },
    "year": {
     "currentValue": "2024",
     "nuid": "4c4c30d1-239e-452d-928c-99a5dcee2b0d",
     "typedWidgetInfo": null,
     "widgetInfo": {
      "widgetType": "text",
      "defaultValue": "",
      "label": null,
      "name": "year",
      "options": {
       "widgetType": "text",
       "autoCreated": null,
       "validationRegex": null
      }
     }
    }
   }
  }
 },
 "nbformat": 4,
 "nbformat_minor": 0
}

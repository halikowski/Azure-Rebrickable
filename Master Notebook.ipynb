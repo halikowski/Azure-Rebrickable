{
 "cells": [
  {
   "cell_type": "code",
   "execution_count": 0,
   "metadata": {
    "application/vnd.databricks.v1+cell": {
     "cellMetadata": {
      "byteLimit": 2048000,
      "rowLimit": 10000
     },
     "inputWidgets": {},
     "nuid": "a15457e2-a61b-4de7-951b-b83bab157138",
     "showTitle": false,
     "title": ""
    }
   },
   "outputs": [],
   "source": [
    "dbutils.widgets.text(\"year\",\"\")\n",
    "dbutils.widgets.text(\"month\",\"\")\n",
    "dbutils.widgets.text(\"day\",\"\")\n",
    "dbutils.widgets.text(\"storageName\",\"\")"
   ]
  },
  {
   "cell_type": "code",
   "execution_count": 0,
   "metadata": {
    "application/vnd.databricks.v1+cell": {
     "cellMetadata": {
      "byteLimit": 2048000,
      "rowLimit": 10000
     },
     "inputWidgets": {},
     "nuid": "ded856ef-31f3-42a8-8c2c-e041e386c5df",
     "showTitle": false,
     "title": ""
    }
   },
   "outputs": [],
   "source": [
    "year = dbutils.widgets.get(\"year\")\n",
    "month = dbutils.widgets.get(\"month\")\n",
    "day = dbutils.widgets.get(\"day\")\n",
    "storageName = dbutils.widgets.get(\"storageName\")"
   ]
  },
  {
   "cell_type": "code",
   "execution_count": 0,
   "metadata": {
    "application/vnd.databricks.v1+cell": {
     "cellMetadata": {},
     "inputWidgets": {},
     "nuid": "eb274996-4f63-4974-89ad-3f8206dcd306",
     "showTitle": false,
     "title": ""
    }
   },
   "outputs": [],
   "source": [
    "dbutils.notebook.run(\"/Workspace/Users/mat.halikowski@gmail.com/Minifigs Notebook\", 500, {\"year\":year,\"month\":month,\"day\":day,\"storageName\":storageName})"
   ]
  },
  {
   "cell_type": "code",
   "execution_count": 0,
   "metadata": {
    "application/vnd.databricks.v1+cell": {
     "cellMetadata": {},
     "inputWidgets": {},
     "nuid": "2e5caecc-d339-4212-970a-a15f769fd0fe",
     "showTitle": false,
     "title": ""
    }
   },
   "outputs": [],
   "source": [
    "dbutils.notebook.run(\"/Workspace/Users/mat.halikowski@gmail.com/Parts Notebook\", 500, {\"year\":year,\"month\":month,\"day\":day,\"storageName\":storageName})"
   ]
  },
  {
   "cell_type": "code",
   "execution_count": 0,
   "metadata": {
    "application/vnd.databricks.v1+cell": {
     "cellMetadata": {},
     "inputWidgets": {},
     "nuid": "61d251cd-3793-44f2-b535-4655bdb32f8e",
     "showTitle": false,
     "title": ""
    }
   },
   "outputs": [],
   "source": [
    "dbutils.notebook.run(\"/Workspace/Users/mat.halikowski@gmail.com/Sets Notebook\", 500, {\"year\":year,\"month\":month,\"day\":day,\"storageName\":storageName})"
   ]
  }
 ],
 "metadata": {
  "application/vnd.databricks.v1+notebook": {
   "dashboards": [],
   "environmentMetadata": null,
   "language": "python",
   "notebookMetadata": {
    "pythonIndentUnit": 4
   },
   "notebookName": "Master Notebook",
   "widgets": {
    "day": {
     "currentValue": "",
     "nuid": "d7fb97f2-22d4-440c-9ccd-2640fe687208",
     "typedWidgetInfo": null,
     "widgetInfo": {
      "widgetType": "text",
      "defaultValue": "",
      "label": null,
      "name": "day",
      "options": {
       "widgetType": "text",
       "autoCreated": null,
       "validationRegex": null
      }
     }
    },
    "month": {
     "currentValue": "",
     "nuid": "72862432-720d-4dff-aa9d-6e97ef604f3d",
     "typedWidgetInfo": null,
     "widgetInfo": {
      "widgetType": "text",
      "defaultValue": "",
      "label": null,
      "name": "month",
      "options": {
       "widgetType": "text",
       "autoCreated": null,
       "validationRegex": null
      }
     }
    },
    "storageName": {
     "currentValue": "",
     "nuid": "cebee98d-0a10-4aae-93bd-6dbc4c230b80",
     "typedWidgetInfo": null,
     "widgetInfo": {
      "widgetType": "text",
      "defaultValue": "",
      "label": null,
      "name": "storageName",
      "options": {
       "widgetType": "text",
       "autoCreated": null,
       "validationRegex": null
      }
     }
    },
    "year": {
     "currentValue": "",
     "nuid": "5fbf8ce1-2fcf-49ae-91b8-9bd14271b8d8",
     "typedWidgetInfo": null,
     "widgetInfo": {
      "widgetType": "text",
      "defaultValue": "",
      "label": null,
      "name": "year",
      "options": {
       "widgetType": "text",
       "autoCreated": null,
       "validationRegex": null
      }
     }
    }
   }
  }
 },
 "nbformat": 4,
 "nbformat_minor": 0
}

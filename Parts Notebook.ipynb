{
 "cells": [
  {
   "cell_type": "code",
   "execution_count": 0,
   "metadata": {
    "application/vnd.databricks.v1+cell": {
     "cellMetadata": {
      "byteLimit": 2048000,
      "rowLimit": 10000
     },
     "inputWidgets": {},
     "nuid": "855ddbb9-5254-486b-bb5e-9f009c4092e8",
     "showTitle": false,
     "title": ""
    }
   },
   "outputs": [],
   "source": [
    "dbutils.widgets.text(\"year\",\"\")\n",
    "dbutils.widgets.text(\"month\",\"\")\n",
    "dbutils.widgets.text(\"day\",\"\")\n",
    "dbutils.widgets.text(\"storageName\",\"\")"
   ]
  },
  {
   "cell_type": "code",
   "execution_count": 0,
   "metadata": {
    "application/vnd.databricks.v1+cell": {
     "cellMetadata": {
      "byteLimit": 2048000,
      "rowLimit": 10000
     },
     "inputWidgets": {},
     "nuid": "d187d2fd-eea2-4e92-a5c1-6b20849cb458",
     "showTitle": false,
     "title": ""
    }
   },
   "outputs": [],
   "source": [
    "year = dbutils.widgets.get(\"year\")\n",
    "month = dbutils.widgets.get(\"month\")\n",
    "day = dbutils.widgets.get(\"day\")\n",
    "storageName = dbutils.widgets.get(\"storageName\")"
   ]
  },
  {
   "cell_type": "code",
   "execution_count": 0,
   "metadata": {
    "application/vnd.databricks.v1+cell": {
     "cellMetadata": {
      "byteLimit": 2048000,
      "rowLimit": 10000
     },
     "inputWidgets": {},
     "nuid": "c28d42a4-233d-4077-b37a-984ea8ad5b6b",
     "showTitle": false,
     "title": ""
    }
   },
   "outputs": [],
   "source": [
    "parts_df = spark.read.option(\"inferSchema\",\"true\").option(\"header\",\"true\").csv(f\"abfss://raw@{storageName}.dfs.core.windows.net/files/parts/Year={year}/Month={month}/Day={day}/*.csv.gz\")"
   ]
  },
  {
   "cell_type": "code",
   "execution_count": 0,
   "metadata": {
    "application/vnd.databricks.v1+cell": {
     "cellMetadata": {
      "byteLimit": 2048000,
      "rowLimit": 10000
     },
     "inputWidgets": {},
     "nuid": "cbd842c1-2ae9-4e7c-a53f-6d9c007f2135",
     "showTitle": false,
     "title": ""
    }
   },
   "outputs": [
    {
     "output_type": "stream",
     "name": "stdout",
     "output_type": "stream",
     "text": [
      "+--------+--------------------+-----------+-------------+\n|part_num|                name|part_cat_id|part_material|\n+--------+--------------------+-----------+-------------+\n|  003381|Sticker Sheet for...|         58|      Plastic|\n|  003383|Sticker Sheet for...|         58|      Plastic|\n|  003402|Sticker Sheet for...|         58|      Plastic|\n|  003429|Sticker Sheet for...|         58|      Plastic|\n|  003432|Sticker Sheet for...|         58|      Plastic|\n|  003434|Sticker Sheet for...|         58|      Plastic|\n|  003435|Sticker Sheet for...|         58|      Plastic|\n|  003436|Sticker Sheet for...|         58|      Plastic|\n|  003437|Sticker Sheet for...|         58|      Plastic|\n|  003438|Sticker Sheet for...|         58|      Plastic|\n|  003439|Sticker Sheet for...|         58|      Plastic|\n|  003440|Sticker Sheet for...|         58|      Plastic|\n|  003446|Sticker Sheet for...|         58|      Plastic|\n|  003496|Sticker Sheet for...|         58|      Plastic|\n|  003497|Sticker Sheet for...|         58|      Plastic|\n|  003498|Sticker Sheet for...|         58|      Plastic|\n|  003500|Sticker Sheet for...|         58|      Plastic|\n|  003501|Sticker Sheet for...|         58|      Plastic|\n|  003502|Sticker Sheet for...|         58|      Plastic|\n|  003503|Sticker Sheet for...|         58|      Plastic|\n+--------+--------------------+-----------+-------------+\nonly showing top 20 rows\n\n"
     ]
    }
   ],
   "source": [
    "parts_df.show()"
   ]
  },
  {
   "cell_type": "code",
   "execution_count": 0,
   "metadata": {
    "application/vnd.databricks.v1+cell": {
     "cellMetadata": {
      "byteLimit": 2048000,
      "rowLimit": 10000
     },
     "inputWidgets": {},
     "nuid": "5195cb01-231d-40a3-803b-a81a3345da42",
     "showTitle": false,
     "title": ""
    }
   },
   "outputs": [],
   "source": [
    "# Rename columns\n",
    "parts_df = parts_df.withColumnRenamed(\"part_num\",\"partID\").withColumnRenamed(\"name\",\"partName\").withColumnRenamed(\"part_material\",\"partMaterial\")"
   ]
  },
  {
   "cell_type": "code",
   "execution_count": 0,
   "metadata": {
    "application/vnd.databricks.v1+cell": {
     "cellMetadata": {
      "byteLimit": 2048000,
      "rowLimit": 10000
     },
     "inputWidgets": {},
     "nuid": "8c2313ab-3b86-46ae-99fe-58ea22ae8013",
     "showTitle": false,
     "title": ""
    }
   },
   "outputs": [],
   "source": [
    "# New data frame from another file\n",
    "categories_df = spark.read.option(\"inferSchema\",\"true\").option(\"header\",\"true\").csv(f\"abfss://raw@{storageName}.dfs.core.windows.net/files/part_categories/Year={year}/Month={month}/Day={day}/*.csv.gz\")"
   ]
  },
  {
   "cell_type": "code",
   "execution_count": 0,
   "metadata": {
    "application/vnd.databricks.v1+cell": {
     "cellMetadata": {
      "byteLimit": 2048000,
      "rowLimit": 10000
     },
     "inputWidgets": {},
     "nuid": "50263a73-3775-43c8-a02a-3702cd532c52",
     "showTitle": false,
     "title": ""
    }
   },
   "outputs": [
    {
     "output_type": "stream",
     "name": "stdout",
     "output_type": "stream",
     "text": [
      "+---+--------------------+\n| id|                name|\n+---+--------------------+\n|  1|          Baseplates|\n|  3|       Bricks Sloped|\n|  4|Duplo, Quatro and...|\n|  5|      Bricks Special|\n|  6|       Bricks Wedged|\n|  7|          Containers|\n|  8|      Technic Bricks|\n|  9|      Plates Special|\n| 11|              Bricks|\n| 12|  Technic Connectors|\n| 13|            Minifigs|\n| 14|              Plates|\n| 15|       Tiles Special|\n| 16|   Windows and Doors|\n| 17|            Non-LEGO|\n| 18|Hinges, Arms and ...|\n| 19|               Tiles|\n| 20|Bricks Round and ...|\n| 21|Plates Round Curv...|\n| 22|          Pneumatics|\n+---+--------------------+\nonly showing top 20 rows\n\n"
     ]
    }
   ],
   "source": [
    "categories_df.show()"
   ]
  },
  {
   "cell_type": "code",
   "execution_count": 0,
   "metadata": {
    "application/vnd.databricks.v1+cell": {
     "cellMetadata": {
      "byteLimit": 2048000,
      "rowLimit": 10000
     },
     "inputWidgets": {},
     "nuid": "3136638a-254c-49a1-82b3-43446ec9139d",
     "showTitle": false,
     "title": ""
    }
   },
   "outputs": [],
   "source": [
    "categories_df = categories_df.withColumnRenamed(\"name\",\"categoryName\")"
   ]
  },
  {
   "cell_type": "code",
   "execution_count": 0,
   "metadata": {
    "application/vnd.databricks.v1+cell": {
     "cellMetadata": {
      "byteLimit": 2048000,
      "rowLimit": 10000
     },
     "inputWidgets": {},
     "nuid": "6e333674-c131-4a2f-ba71-c3a20e4797cd",
     "showTitle": false,
     "title": ""
    }
   },
   "outputs": [],
   "source": [
    "# Merging both data frames\n",
    "merged_df = parts_df.join(categories_df, parts_df.part_cat_id == categories_df.id, how='left').drop('id', 'part_cat_id')"
   ]
  },
  {
   "cell_type": "code",
   "execution_count": 0,
   "metadata": {
    "application/vnd.databricks.v1+cell": {
     "cellMetadata": {
      "byteLimit": 2048000,
      "rowLimit": 10000
     },
     "inputWidgets": {},
     "nuid": "f2b5c26f-43be-412c-8086-48f814883dae",
     "showTitle": false,
     "title": ""
    }
   },
   "outputs": [
    {
     "output_type": "stream",
     "name": "stdout",
     "output_type": "stream",
     "text": [
      "+------+--------------------+------------+------------+\n|partID|            partName|partMaterial|categoryName|\n+------+--------------------+------------+------------+\n|003381|Sticker Sheet for...|     Plastic|    Stickers|\n|003383|Sticker Sheet for...|     Plastic|    Stickers|\n|003402|Sticker Sheet for...|     Plastic|    Stickers|\n|003429|Sticker Sheet for...|     Plastic|    Stickers|\n|003432|Sticker Sheet for...|     Plastic|    Stickers|\n|003434|Sticker Sheet for...|     Plastic|    Stickers|\n|003435|Sticker Sheet for...|     Plastic|    Stickers|\n|003436|Sticker Sheet for...|     Plastic|    Stickers|\n|003437|Sticker Sheet for...|     Plastic|    Stickers|\n|003438|Sticker Sheet for...|     Plastic|    Stickers|\n|003439|Sticker Sheet for...|     Plastic|    Stickers|\n|003440|Sticker Sheet for...|     Plastic|    Stickers|\n|003446|Sticker Sheet for...|     Plastic|    Stickers|\n|003496|Sticker Sheet for...|     Plastic|    Stickers|\n|003497|Sticker Sheet for...|     Plastic|    Stickers|\n|003498|Sticker Sheet for...|     Plastic|    Stickers|\n|003500|Sticker Sheet for...|     Plastic|    Stickers|\n|003501|Sticker Sheet for...|     Plastic|    Stickers|\n|003502|Sticker Sheet for...|     Plastic|    Stickers|\n|003503|Sticker Sheet for...|     Plastic|    Stickers|\n+------+--------------------+------------+------------+\nonly showing top 20 rows\n\n"
     ]
    }
   ],
   "source": [
    "merged_df.show()"
   ]
  },
  {
   "cell_type": "code",
   "execution_count": 0,
   "metadata": {
    "application/vnd.databricks.v1+cell": {
     "cellMetadata": {
      "byteLimit": 2048000,
      "rowLimit": 10000
     },
     "inputWidgets": {},
     "nuid": "0174d122-799b-4258-8172-6803095a25a1",
     "showTitle": false,
     "title": ""
    }
   },
   "outputs": [],
   "source": [
    "merged_df_cleaned = merged_df.dropDuplicates()"
   ]
  },
  {
   "cell_type": "code",
   "execution_count": 0,
   "metadata": {
    "application/vnd.databricks.v1+cell": {
     "cellMetadata": {
      "byteLimit": 2048000,
      "rowLimit": 10000
     },
     "inputWidgets": {},
     "nuid": "3b2b423e-30c2-440f-906d-6e1c1283a900",
     "showTitle": false,
     "title": ""
    }
   },
   "outputs": [],
   "source": [
    "merged_df_cleaned.write.format(\"delta\").mode(\"overwrite\").save(f\"abfss://curated@{storageName}.dfs.core.windows.net/files/parts/\")"
   ]
  }
 ],
 "metadata": {
  "application/vnd.databricks.v1+notebook": {
   "dashboards": [],
   "environmentMetadata": null,
   "language": "python",
   "notebookMetadata": {
    "pythonIndentUnit": 4
   },
   "notebookName": "Parts Notebook",
   "widgets": {
    "day": {
     "currentValue": "28",
     "nuid": "663a7489-9ab0-4d6a-b50d-6d2012733aa1",
     "typedWidgetInfo": null,
     "widgetInfo": {
      "widgetType": "text",
      "defaultValue": "",
      "label": null,
      "name": "day",
      "options": {
       "widgetType": "text",
       "autoCreated": null,
       "validationRegex": null
      }
     }
    },
    "month": {
     "currentValue": "06",
     "nuid": "db040979-b244-4535-b096-f8092b0c451e",
     "typedWidgetInfo": null,
     "widgetInfo": {
      "widgetType": "text",
      "defaultValue": "",
      "label": null,
      "name": "month",
      "options": {
       "widgetType": "text",
       "autoCreated": null,
       "validationRegex": null
      }
     }
    },
    "storageName": {
     "currentValue": "mateuszlegoprod",
     "nuid": "82509a30-7ed9-4ee8-923a-e54a6c99cfed",
     "typedWidgetInfo": null,
     "widgetInfo": {
      "widgetType": "text",
      "defaultValue": "",
      "label": null,
      "name": "storageName",
      "options": {
       "widgetType": "text",
       "autoCreated": null,
       "validationRegex": null
      }
     }
    },
    "year": {
     "currentValue": "2024",
     "nuid": "85898068-0553-4fe1-90f3-432c57d93e03",
     "typedWidgetInfo": null,
     "widgetInfo": {
      "widgetType": "text",
      "defaultValue": "",
      "label": null,
      "name": "year",
      "options": {
       "widgetType": "text",
       "autoCreated": null,
       "validationRegex": null
      }
     }
    }
   }
  }
 },
 "nbformat": 4,
 "nbformat_minor": 0
}
